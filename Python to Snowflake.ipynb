{
 "cells": [
  {
   "cell_type": "code",
   "execution_count": 1,
   "metadata": {},
   "outputs": [
    {
     "name": "stdout",
     "output_type": "stream",
     "text": [
      "<bound method Snowflake_Query.Run_Insert_Data of <Snowflake_Connection.Snowflake_Query object at 0x000002517C432948>>\n"
     ]
    },

   ],
   "source": [
    "import sys\n",
    "import pandas as pd\n",
    "sys.path.append('R:/AR/Python/Modules')\n",
    "from Snowflake_Connection import Snowflake_Query\n",
    "\n",
    "file=pd.read_excel(r'<<FILEPATH>>.xlsx')\n",
    "tbl_nm='<<TABLENAME>>'\n",
    "\n",
    "#Snowflake_Query().Run('Create_Table', DF = file, Table_Name = tbl_nm)\n",
    "\n",
    "Snowflake_Query().Run('Insert_Data', DF = file, Table_Name = tbl_nm, Drop_Data = False)\n",
    "\n",
    "#Snowflake()_Query().Run('Query', Query, Output = True)"
   ]
  },
  {
   "cell_type": "code",
   "execution_count": null,
   "metadata": {},
   "outputs": [],
   "source": [
    "file"
   ]
  },
  {
   "cell_type": "code",
   "execution_count": null,
   "metadata": {},
   "outputs": [],
   "source": [
    "pip install snowflake.connector"
   ]
  }
 ],
 "metadata": {
  "kernelspec": {
   "display_name": "Python 3",
   "language": "python",
   "name": "python3"
  },
  "language_info": {
   "codemirror_mode": {
    "name": "ipython",
    "version": 3
   },
   "file_extension": ".py",
   "mimetype": "text/x-python",
   "name": "python",
   "nbconvert_exporter": "python",
   "pygments_lexer": "ipython3",
   "version": "3.7.4"
  }
 },
 "nbformat": 4,
 "nbformat_minor": 2
}
