{
 "cells": [
  {
   "cell_type": "code",
   "execution_count": 5,
   "metadata": {},
   "outputs": [
    {
     "name": "stdout",
     "output_type": "stream",
     "text": [
      "2020-07-13 2020-07-20\n"
     ]
    }
   ],
   "source": [
    "import pandas as pd\n",
    "from datetime import date, timedelta \n",
    "\n",
    "d = date.today()\n",
    "a = (d.weekday())\n",
    "\n",
    "if a==6:\n",
    "    a=(4)\n",
    "elif a==5:\n",
    "    a=(3)\n",
    "elif a==4:\n",
    "    a=(2)\n",
    "elif a==3:\n",
    "    a=(1)\n",
    "elif a==2:\n",
    "    a=(0)\n",
    "elif a==1:\n",
    "    a=(6)\n",
    "elif a==0:\n",
    "    a=(5)\n",
    "\n",
    "wednesdaymydudes = (d-timedelta(days=a)).strftime('%m/%d/%Y')\n",
    "weekstart = (d - timedelta(days=a))+timedelta(days=-2)\n",
    "weekend = (d-timedelta(days=a))+timedelta(days=5)\n",
    "\n",
    "\n",
    "print(weekstart, weekend)"
   ]
  },
  {
   "cell_type": "code",
   "execution_count": 6,
   "metadata": {},
   "outputs": [
    {
     "data": {
      "text/plain": [
       "'<<FILEPATH>>'"
      ]
     },
     "execution_count": 6,
     "metadata": {},
     "output_type": "execute_result"
    }
   ],
   "source": [
    "import os\n",
    "\n",
    "directory=r'<<FILEPATH>>'\n",
    "filepath = max([os.path.join(directory,d) for d in os.listdir(directory)], key=os.path.getmtime)\n",
    "\n",
    "filepath"
   ]
  },
  {
   "cell_type": "code",
   "execution_count": 7,
   "metadata": {},
   "outputs": [],
   "source": [
    "import glob\n",
    "import pandas as pd\n",
    "\n",
    "pattern = filepath+'\\*.xls'\n",
    "\n",
    "xls_files = glob.glob(pattern)\n",
    "\n",
    "frames = []\n",
    "\n",
    "for file in xls_files:\n",
    "    df=pd.read_excel(file, header=21)\n",
    "    frames.append(df)\n",
    "zbill = pd.concat(frames)"
   ]
  },
  {
   "cell_type": "code",
   "execution_count": 8,
   "metadata": {},
   "outputs": [],
   "source": [
    "weekstartsave = str(weekstart)\n",
    "zbill.to_excel(r'<<FILEPATH>> '+weekstartsave+'.xlsx', index=None, header=True)"
   ]
  },
  {
   "cell_type": "code",
   "execution_count": 9,
   "metadata": {},
   "outputs": [],
   "source": [
    "filepath=(r'<<FILEPATH>>.xlsx')\n",
    "DSDRaw=pd.read_excel(filepath)"
   ]
  },
     },
     "execution_count": 10,
     "metadata": {},
     "output_type": "execute_result"
    }
   ],
   "source": [
    "DSD=DSDRaw\n",
    "DSD"
   ]
  },
  {
   "cell_type": "code",
   "execution_count": 11,
   "metadata": {},
   "outputs": [],
   "source": [
    "DSD=DSD.astype({'Cons. Pack UPC': 'int64'})\n",
    "DSD=DSD.reset_index(drop=True)\n",
    "DSD=DSD.astype({'Cons. Pack UPC':'str'})\n",
    "DSD=DSD.astype({'Item Cost':'float64'})\n",
    "DSD=DSD.rename(columns={'Cons. Pack UPC':'UPC'})"
   ]
  },
  {
   "cell_type": "code",
   "execution_count": 15,
   "metadata": {},
   "outputs": [],
   "source": [
    "FilePathSKU = ('G:/AR/Master SKU.xlsx')\n",
    "pd.set_option('display.max_rows', 1000)\n",
    "MSku = pd.read_excel(FilePathSKU, header=3)\n",
    "MSku = MSku[['Product Name', 'Case Size','Unit UPC', 'Case UPC']]\n",
    "MSku = MSku.dropna(subset=['Case Size'])\n",
    "MSku = MSku.astype({'Case Size':'str'})\n",
    "MSku['Case Size']=MSku['Case Size'].str.strip(' Packs/Case')\n",
    "MSku['Case Size']=MSku['Case Size'].str.strip(' Pack')\n",
    "MSku['Case Size']=MSku['Case Size'].str.strip('/Case')\n",
    "MSku['Case Size']=MSku['Case Size'].str.strip(' / case')\n",
    "MSku['Case Size']=MSku['Case Size'].str.strip('/')\n",
    "MSku['Case Size']=MSku['Case Size'].str.strip(' ')\n",
    "MSku['Unit UPC']=MSku['Unit UPC'].str.strip(\"'\")\n",
    "MSku['Unit UPC']=MSku['Unit UPC'].str.strip(' ')\n",
    "MSku['Unit UPC']=MSku['Unit UPC'].str.strip('TBD')\n",
    "\n",
    "\n",
    "MSku = MSku.dropna(subset=['Unit UPC'])\n",
    "MSku = MSku.dropna(subset=['Case Size'])\n",
    "#MSku=MSku.astype({'Unit UPC' : 'int64'})\n",
    "MSku=MSku.astype({'Case Size' : 'int64', 'Unit UPC' : 'str'})\n",
    "\n",
    "MSku = MSku.reset_index(drop=True)"
   ]
  },
  {
   "cell_type": "code",
   "execution_count": 16,
   "metadata": {},
   "outputs": [
    {
     "name": "stdout",
     "output_type": "stream",
     "text": [
      "--- 0.504399299621582 seconds --- For String Match\n"
     ]
    }
   ],
   "source": [
    "import time\n",
    "\n",
    "start_time1 = time.time()\n",
    "DSD1=DSD.drop_duplicates(subset=['UPC'])\n",
    "#DSD = DSD[DSD['UPC'] in (MSku['Unit UPC'])]\n",
    "#DSD['Case UPC'] = ''\n",
    "list1 = []\n",
    "list2 = []\n",
    "listt = []\n",
    "for UPC in DSD1['UPC']:\n",
    "    for item, case in zip(MSku['Unit UPC'],MSku['Case UPC']):\n",
    "        if UPC in item:\n",
    "            list1.append(UPC)\n",
    "            list2.append(case)\n",
    "        elif UPC not in item:\n",
    "            listt.append(item)\n",
    "\n",
    "list3 = zip(list1,list2)\n",
    "joinDF = pd.DataFrame(list3, columns = ['UPC','case'])\n",
    "z = DSD1.merge(joinDF, on = 'UPC', how = 'left')\n",
    "\n",
    "print(\"--- %s seconds --- For String Match\" % (time.time() - start_time1))"
   ]
  },
  {
   "cell_type": "code",
   "execution_count": 17,
   "metadata": {},
   "outputs": [],
   "source": [
    "z1=z"
   ]
  },
  {
   "cell_type": "code",
   "execution_count": 18,
   "metadata": {},
   "outputs": [],
   "source": [
    "z1=z1[['UPC','case']]\n",
    "DSD=DSD.merge(z1, on='UPC', how='left')\n",
    "DSD=DSD.reset_index(drop=True)\n",
    "DSD=DSD[['Vendor Number','case','Item Description','Item Cost','Case Pack','Cost Effective\\nStart Date\\n(MM/DD/YYYY)']]\n",
    "#DSD"
   ]
  },
   ],
   "source": [
    "DSD1=DSD\n",
    "DSD1"
   ]
  },
   ],
   "source": [
    "DSD1=DSD1.rename(columns={'Vendor Number':'Level 1','case':'UPC','Cost Effective\\nStart Date\\n(MM/DD/YYYY)':'Start Date'})\n",
    "DSD1=DSD1.dropna(subset=['UPC'])\n",
    "DSD1.insert(0,'OBMB','MB420000000887')\n",
    "DSD1.insert(2,'Level 2','NA')\n",
    "DSD1.insert(3,'Level 3','NA')\n",
    "DSD1.insert(4,'SKU', 'NA')\n",
    "DSD1.insert(5,'Promo Adj',0)\n",
    "DSD1['Case Cost']=DSD1['Item Cost']*DSD1['Case Pack']\n",
    "DSD1['Net']=DSD1['Case Cost']\n",
    "DSD1.insert(7,'Cost Type','EDLP')\n",
    "DSD1['End Date']=weekend\n",
    "DSD1['File Date']=date.today()\n",
    "DSD1=DSD1.astype({'End Date':'datetime64[ns]', 'File Date':'datetime64[ns]'})\n",
    "DSD1['Start Date']=DSD1['Start Date'].dt.strftime('%m/%d/%Y')\n",
    "DSD1['End Date']=DSD1['End Date'].dt.strftime('%m/%d/%Y')\n",
    "DSD1['File Date']=DSD1['File Date'].dt.strftime('%m/%d/%Y')\n",
    "DSD1=DSD1.rename(columns={'Item Description':'Delete'})\n",
    "DSD1=DSD1.merge(MSku, left_on='UPC', right_on='Case UPC', how='left')\n",
    "DSD1=DSD1.rename(columns={'Product Name':'Description'})\n",
    "DSD1=DSD1.reset_index(drop=True)\n",
    "DSD1=DSD1[['OBMB','Level 1','Level 2','Level 3','SKU','UPC','Description','Cost Type','Net','Case Cost','Promo Adj','Start Date','End Date','File Date']]\n",
    "\n",
    "DSD1"
   ]
  },
  {
   "cell_type": "code",
   "execution_count": 21,
   "metadata": {},
   "outputs": [],
   "source": [
    "import numpy as np\n",
    "\n",
    "DSD1['UPC']=DSD1['UPC'].apply(pd.to_numeric,args=('coerce',))\n",
    "#DSD1['UPC']=DSD1['UPC'].str.strip('TBD')\n",
    "#DSD1['UPC']=DSD1['UPC'].str.strip('')\n",
    "#DSD1['UPC']=DSD1['UPC'].str.strip(np.NaN)\n",
    "DSD1=DSD1.dropna(subset=['UPC'])\n",
    "DSD1=DSD1.astype({'UPC':'int64'})\n",
    "DSD1=DSD1.astype({'UPC':'str'})\n",
    "DSD1=DSD1.astype({'Description':'str'})\n",
    "#DSD1=DSD1.reset_index(drop=True)\n",
    "\n",
    "DSD1['UPC']=DSD1['UPC'].apply(lambda x: x[:10] if len(str(x))  == 11 else (x[1:11] if len(str(x))==12 else x))\n",
    "DSD1['Description']=DSD1['Description'].apply(lambda x: x[:30] if len(str(x))>29 else x)"
   ]
  },
  {
   "cell_type": "code",
   "execution_count": 22,
   "metadata": {},
   "outputs": [],
   "source": [
    "DSD1=DSD1.drop_duplicates(subset=['OBMB','Level 1','Level 2','Level 3','UPC','Cost Type','Start Date'])\n",
    "\n",
    "DSD1.to_csv('<<FILEPATH>>'+weekstartsave+'.csv',index = None, header=True)\n",
    "DSD1.to_csv('<<FILEPATH>>'+weekstartsave+'.csv',index = None, header=True)\n",
    "\n",
    "#Send an email\n",
    "import win32com.client as win32\n",
    "\n",
    " \n",
    "\n",
    "outlook = win32.Dispatch('outlook.application')\n",
    "mail = outlook.CreateItem(0)\n",
    "mail.To = '<<EMAIL ADDRESS>>'\n",
    "mail.Subject  = 'Automated FPP Email'\n",
    "mail.Body = ('This is an automated message generated by the creation of <<FILE TITLE>>.')\n",
    "\n",
    "\n",
    "mail.Send()"
   ]
  },
  {
   "cell_type": "code",
   "execution_count": null,
   "metadata": {},
   "outputs": [],
   "source": []
  }
 ],
 "metadata": {
  "kernelspec": {
   "display_name": "Python 3",
   "language": "python",
   "name": "python3"
  },
  "language_info": {
   "codemirror_mode": {
    "name": "ipython",
    "version": 3
   },
   "file_extension": ".py",
   "mimetype": "text/x-python",
   "name": "python",
   "nbconvert_exporter": "python",
   "pygments_lexer": "ipython3",
   "version": "3.7.4"
  }
 },
 "nbformat": 4,
 "nbformat_minor": 2
}
